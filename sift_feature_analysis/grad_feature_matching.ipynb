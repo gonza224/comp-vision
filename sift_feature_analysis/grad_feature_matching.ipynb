{
 "cells": [
  {
   "cell_type": "code",
   "execution_count": 12,
   "id": "215621c5",
   "metadata": {},
   "outputs": [
    {
     "name": "stdout",
     "output_type": "stream",
     "text": [
      "Detected 509 keypoints\n"
     ]
    }
   ],
   "source": [
    "import cv2 as cv\n",
    "import numpy as np\n",
    "\n",
    "# Load image and convert to grayscale\n",
    "img = cv.imread('./images/1.jpeg')\n",
    "gray = cv.cvtColor(img, cv.COLOR_BGR2GRAY)\n",
    "\n",
    "# Initialize SIFT with tuned parameters\n",
    "sift_tuned = cv.SIFT_create(\n",
    "    contrastThreshold=0.09,\n",
    "    edgeThreshold=20,\n",
    "    sigma=2\n",
    ")\n",
    "\n",
    "# Detect keypoints\n",
    "keypoints_tuned = sift_tuned.detect(gray, None)\n",
    "\n",
    "# Draw detected blobs/keypoints\n",
    "output_image_tuned = cv.drawKeypoints(\n",
    "    img,\n",
    "    keypoints_tuned,\n",
    "    None,\n",
    "    flags=cv.DRAW_MATCHES_FLAGS_DRAW_RICH_KEYPOINTS\n",
    ")\n",
    "\n",
    "# Show results\n",
    "cv.imshow('SIFT Keypoints (Tuned Parameters)', output_image_tuned)\n",
    "cv.waitKey(0)\n",
    "cv.destroyAllWindows()\n",
    "\n",
    "print(f\"Detected {len(keypoints_tuned)} keypoints\")"
   ]
  },
  {
   "cell_type": "code",
   "execution_count": 17,
   "id": "512554d5",
   "metadata": {},
   "outputs": [
    {
     "name": "stdout",
     "output_type": "stream",
     "text": [
      "Image1: 1853 keypoints, Image2: 7117 keypoints\n"
     ]
    }
   ],
   "source": [
    "import cv2 as cv\n",
    "import numpy as np\n",
    "\n",
    "# Load images\n",
    "image1 = cv.imread('./images/1.jpeg')\n",
    "image2 = cv.imread('./images/2.jpeg')\n",
    "\n",
    "# Resize both to same width (keep aspect ratio)\n",
    "target_width = 800\n",
    "scale1 = target_width / image1.shape[1]\n",
    "scale2 = target_width / image2.shape[1]\n",
    "image1 = cv.resize(image1, (target_width, int(image1.shape[0] * scale1)))\n",
    "image2 = cv.resize(image2, (target_width, int(image2.shape[0] * scale2)))\n",
    "\n",
    "# Initialize SIFT\n",
    "sift = cv.SIFT_create(\n",
    "    contrastThreshold=0.09,\n",
    "    edgeThreshold=20,\n",
    "    sigma=2\n",
    ")\n",
    "\n",
    "# Detect and compute keypoints/descriptors\n",
    "keypoints1, descriptors1 = sift.detectAndCompute(image1, None)\n",
    "keypoints2, descriptors2 = sift.detectAndCompute(image2, None)\n",
    "\n",
    "print(f\"Image1: {len(keypoints1)} keypoints, Image2: {len(keypoints2)} keypoints\")\n",
    "\n",
    "# Brute-force matcher\n",
    "bf = cv.BFMatcher(cv.NORM_L2, crossCheck=True)\n",
    "matches = bf.match(descriptors1, descriptors2)\n",
    "\n",
    "# Sort by distance (lower = better)\n",
    "matches = sorted(matches, key=lambda x: x.distance)\n",
    "\n",
    "# Draw top 50 matches\n",
    "matched_img = cv.drawMatches(\n",
    "    image1, keypoints1,\n",
    "    image2, keypoints2,\n",
    "    matches[:50], None,\n",
    "    flags=cv.DrawMatchesFlags_NOT_DRAW_SINGLE_POINTS\n",
    ")\n",
    "\n",
    "cv.imshow('Top 50 SIFT Matches', matched_img)\n",
    "cv.waitKey(0)\n",
    "cv.destroyAllWindows()\n"
   ]
  }
 ],
 "metadata": {
  "kernelspec": {
   "display_name": "CSC391CVraw",
   "language": "python",
   "name": "python3"
  },
  "language_info": {
   "codemirror_mode": {
    "name": "ipython",
    "version": 3
   },
   "file_extension": ".py",
   "mimetype": "text/x-python",
   "name": "python",
   "nbconvert_exporter": "python",
   "pygments_lexer": "ipython3",
   "version": "3.10.18"
  }
 },
 "nbformat": 4,
 "nbformat_minor": 5
}
