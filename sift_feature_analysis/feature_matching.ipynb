{
 "cells": [
  {
   "cell_type": "code",
   "execution_count": 1,
   "id": "6b15735d",
   "metadata": {},
   "outputs": [
    {
     "name": "stderr",
     "output_type": "stream",
     "text": [
      "qt.qpa.plugin: Could not find the Qt platform plugin \"wayland\" in \"\"\n"
     ]
    }
   ],
   "source": [
    "import cv2 as cv\n",
    "import numpy as np\n",
    "\n",
    "# Load the original image\n",
    "image1 = cv.imread('./images/example-image.jpg')\n",
    "rows, cols = image1.shape[:2]\n",
    "\n",
    "# Define source points (corners of the original image)\n",
    "src_points = np.float32([\n",
    "    [0, 0],           # top-left\n",
    "    [cols-1, 0],      # top-right  \n",
    "    [cols-1, rows-1], # bottom-right\n",
    "    [0, rows-1]       # bottom-left\n",
    "])\n",
    "\n",
    "# Define destination points (warped corners)\n",
    "left_top     = np.array([cols * 0.15, rows * 0.05])\n",
    "right_top    = np.array([cols * 0.85, rows * 0.10])\n",
    "right_bottom = np.array([cols * 1.18, rows * 1.08])\n",
    "left_bottom  = np.array([-cols * 0.10, rows * 0.98])\n",
    "\n",
    "dst_points = np.float32([\n",
    "    left_top,\n",
    "    right_top,\n",
    "    right_bottom,\n",
    "    left_bottom\n",
    "])\n",
    "\n",
    "# Compute the perspective transformation matrix\n",
    "M = cv.getPerspectiveTransform(src_points, dst_points)\n",
    "\n",
    "# Apply the transformation (you can expand the output size to fit)\n",
    "image2 = cv.warpPerspective(image1, M, (int(cols * 1.5), int(rows * 1.5)))\n",
    "\n",
    "# Save the transformed image\n",
    "cv.imwrite('./images/example-image-transformed.jpg', image2)\n",
    "\n",
    "# Display both images\n",
    "cv.imshow('Original Image (image1)', image1)\n",
    "cv.imshow('Transformed Image (image2)', image2)\n",
    "cv.waitKey(0)\n",
    "cv.destroyAllWindows()\n"
   ]
  },
  {
   "cell_type": "code",
   "execution_count": 4,
   "id": "512554d5",
   "metadata": {},
   "outputs": [
    {
     "name": "stdout",
     "output_type": "stream",
     "text": [
      "Image1: 175 keypoints, Image2: 140 keypoints\n"
     ]
    }
   ],
   "source": [
    "sift = cv.SIFT_create(\n",
    "    contrastThreshold=0.08,\n",
    "    edgeThreshold=5,\n",
    "    sigma=1.2\n",
    ")\n",
    "\n",
    "# Detect and compute keypoints/descriptors\n",
    "keypoints1, descriptors1 = sift.detectAndCompute(image1, None)\n",
    "keypoints2, descriptors2 = sift.detectAndCompute(image2, None)\n",
    "\n",
    "print(f\"Image1: {len(keypoints1)} keypoints, Image2: {len(keypoints2)} keypoints\")\n",
    "\n",
    "# Brute-force matcher\n",
    "bf = cv.BFMatcher(cv.NORM_L2, crossCheck=True)\n",
    "matches = bf.match(descriptors1, descriptors2)\n",
    "\n",
    "# Lower distance = better match\n",
    "matches = sorted(matches, key=lambda x: x.distance)\n",
    "\n",
    "# Draw the top 50 matches\n",
    "matched_img = cv.drawMatches(\n",
    "    image1, keypoints1,\n",
    "    image2, keypoints2,\n",
    "    matches[:50], None,\n",
    "    flags=cv.DrawMatchesFlags_NOT_DRAW_SINGLE_POINTS\n",
    ")\n",
    "\n",
    "cv.imshow('Top 50 SIFT Matches', matched_img)\n",
    "cv.waitKey(0)\n",
    "cv.destroyAllWindows()"
   ]
  }
 ],
 "metadata": {
  "kernelspec": {
   "display_name": "CSC391CVraw",
   "language": "python",
   "name": "python3"
  },
  "language_info": {
   "codemirror_mode": {
    "name": "ipython",
    "version": 3
   },
   "file_extension": ".py",
   "mimetype": "text/x-python",
   "name": "python",
   "nbconvert_exporter": "python",
   "pygments_lexer": "ipython3",
   "version": "3.10.18"
  }
 },
 "nbformat": 4,
 "nbformat_minor": 5
}
